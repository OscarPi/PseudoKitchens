{
 "cells": [
  {
   "cell_type": "code",
   "execution_count": null,
   "metadata": {},
   "outputs": [],
   "source": [
    "from concepts.data import kitchens\n",
    "from concepts.training import train_cbm_independent, train_cbm_joint, train_cbm_sequential, train_cem, train_black_box\n",
    "import torch\n",
    "import lightning"
   ]
  },
  {
   "cell_type": "code",
   "execution_count": null,
   "id": "a8097a86",
   "metadata": {},
   "outputs": [],
   "source": [
    "def get_intervention_accuracies(model, test_dl):\n",
    "    trainer = lightning.Trainer()\n",
    "\n",
    "    intervention_accuracies = []\n",
    "    model.intervention_mask = torch.tensor([0] * model.n_concepts)\n",
    "    [test_results] = trainer.test(model, test_dl)\n",
    "    intervention_accuracies.append(round(test_results[\"test_y_accuracy\"], 4))\n",
    "    for c in range(model.n_concepts):\n",
    "        model.intervention_mask[c] = 1\n",
    "        [test_results] = trainer.test(model, test_dl)\n",
    "        intervention_accuracies.append(round(test_results[\"test_y_accuracy\"], 4))\n",
    "    return intervention_accuracies"
   ]
  },
  {
   "cell_type": "code",
   "execution_count": null,
   "id": "ac14ade7",
   "metadata": {},
   "outputs": [],
   "source": [
    "datasets = kitchens.KitchensDatasets(foundation_model=\"dinov2\")"
   ]
  },
  {
   "cell_type": "markdown",
   "id": "09815c58",
   "metadata": {},
   "source": [
    "# Joint CBM"
   ]
  },
  {
   "cell_type": "code",
   "execution_count": null,
   "id": "b73dd0e0",
   "metadata": {},
   "outputs": [],
   "source": [
    "joint_cbm, joint_cbm_results, joint_cbm_recipeless_results = train_cbm_joint(datasets)"
   ]
  },
  {
   "cell_type": "code",
   "execution_count": null,
   "id": "98a93229",
   "metadata": {},
   "outputs": [],
   "source": [
    "intervention_accuracies = get_intervention_accuracies(joint_cbm, datasets.test_dl())"
   ]
  },
  {
   "cell_type": "code",
   "execution_count": null,
   "id": "a92bbe15",
   "metadata": {},
   "outputs": [],
   "source": [
    "print(\", \".join(map(str, intervention_accuracies)))"
   ]
  },
  {
   "cell_type": "markdown",
   "id": "93fa4676",
   "metadata": {},
   "source": [
    "# Sequential CBM"
   ]
  },
  {
   "cell_type": "code",
   "execution_count": null,
   "id": "9b5e4049",
   "metadata": {},
   "outputs": [],
   "source": [
    "sequential_cbm, sequential_cbm_results, sequential_cbm_recipeless_results = train_cbm_sequential(datasets)"
   ]
  },
  {
   "cell_type": "code",
   "execution_count": null,
   "id": "fb8d2870",
   "metadata": {},
   "outputs": [],
   "source": [
    "intervention_accuracies = get_intervention_accuracies(sequential_cbm, datasets.test_dl())"
   ]
  },
  {
   "cell_type": "code",
   "execution_count": null,
   "id": "b2623097",
   "metadata": {},
   "outputs": [],
   "source": [
    "print(\", \".join(map(str, intervention_accuracies)))"
   ]
  },
  {
   "cell_type": "markdown",
   "id": "584b7abc",
   "metadata": {},
   "source": [
    "# Independent CBM"
   ]
  },
  {
   "cell_type": "code",
   "execution_count": null,
   "id": "bd2e783e",
   "metadata": {},
   "outputs": [],
   "source": [
    "independent_cbm, independent_cbm_results, independent_cbm_recipeless_results = train_cbm_independent(datasets)"
   ]
  },
  {
   "cell_type": "code",
   "execution_count": null,
   "id": "f8fce470",
   "metadata": {},
   "outputs": [],
   "source": [
    "intervention_accuracies = get_intervention_accuracies(independent_cbm, datasets.test_dl())"
   ]
  },
  {
   "cell_type": "code",
   "execution_count": null,
   "id": "98c5b0a4",
   "metadata": {},
   "outputs": [],
   "source": [
    "print(\", \".join(map(str, intervention_accuracies)))"
   ]
  },
  {
   "cell_type": "markdown",
   "id": "9d4e7271",
   "metadata": {},
   "source": [
    "# Sequential CBM with Independent Concepts"
   ]
  },
  {
   "cell_type": "code",
   "execution_count": null,
   "id": "49506f59",
   "metadata": {},
   "outputs": [],
   "source": [
    "recipeless_sequential_cbm, recipeless_sequential_cbm_results, recipeless_sequential_cbm_recipeless_results = train_cbm_sequential(datasets, use_recipeless=True)"
   ]
  },
  {
   "cell_type": "code",
   "execution_count": null,
   "id": "226a1f27",
   "metadata": {},
   "outputs": [],
   "source": [
    "intervention_accuracies = get_intervention_accuracies(recipeless_sequential_cbm, datasets.test_dl())"
   ]
  },
  {
   "cell_type": "code",
   "execution_count": null,
   "id": "a0b11907",
   "metadata": {},
   "outputs": [],
   "source": [
    "print(\", \".join(map(str, intervention_accuracies)))"
   ]
  },
  {
   "cell_type": "markdown",
   "id": "42fb4b88",
   "metadata": {},
   "source": [
    "# Independent CBM with Independent Concepts"
   ]
  },
  {
   "cell_type": "code",
   "execution_count": null,
   "id": "910140b1",
   "metadata": {},
   "outputs": [],
   "source": [
    "recipeless_independent_cbm, recipeless_independent_cbm_results, recipeless_independent_cbm_recipeless_results = train_cbm_independent(datasets, use_recipeless=True)"
   ]
  },
  {
   "cell_type": "code",
   "execution_count": null,
   "id": "23e9e493",
   "metadata": {},
   "outputs": [],
   "source": [
    "intervention_accuracies = get_intervention_accuracies(recipeless_independent_cbm, datasets.test_dl())"
   ]
  },
  {
   "cell_type": "code",
   "execution_count": null,
   "id": "cd4812e4",
   "metadata": {},
   "outputs": [],
   "source": [
    "print(\", \".join(map(str, intervention_accuracies)))"
   ]
  },
  {
   "cell_type": "markdown",
   "id": "da0f0d7d",
   "metadata": {},
   "source": [
    "# CEM"
   ]
  },
  {
   "cell_type": "code",
   "execution_count": null,
   "id": "aaef59a3",
   "metadata": {},
   "outputs": [],
   "source": [
    "cem, cem_results, cem_recipeless_results = train_cem(datasets)"
   ]
  },
  {
   "cell_type": "code",
   "execution_count": null,
   "id": "b067eddf",
   "metadata": {},
   "outputs": [],
   "source": [
    "intervention_accuracies = get_intervention_accuracies(cem, datasets.test_dl())"
   ]
  },
  {
   "cell_type": "code",
   "execution_count": null,
   "id": "13b4bcd6",
   "metadata": {},
   "outputs": [],
   "source": [
    "print(\", \".join(map(str, intervention_accuracies)))"
   ]
  },
  {
   "cell_type": "markdown",
   "id": "eaae398e",
   "metadata": {},
   "source": [
    "# Black Box"
   ]
  },
  {
   "cell_type": "code",
   "execution_count": null,
   "id": "8c174ba9",
   "metadata": {},
   "outputs": [],
   "source": [
    "black_box, black_box_results = train_black_box(datasets)"
   ]
  }
 ],
 "metadata": {
  "kernelspec": {
   "display_name": "myvenv",
   "language": "python",
   "name": "python3"
  },
  "language_info": {
   "codemirror_mode": {
    "name": "ipython",
    "version": 3
   },
   "file_extension": ".py",
   "mimetype": "text/x-python",
   "name": "python",
   "nbconvert_exporter": "python",
   "pygments_lexer": "ipython3",
   "version": "3.12.3"
  }
 },
 "nbformat": 4,
 "nbformat_minor": 5
}
