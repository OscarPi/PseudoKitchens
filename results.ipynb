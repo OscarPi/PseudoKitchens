{
 "cells": [
  {
   "cell_type": "code",
   "execution_count": null,
   "id": "27601d32",
   "metadata": {},
   "outputs": [],
   "source": [
    "import statistics"
   ]
  },
  {
   "cell_type": "code",
   "execution_count": null,
   "id": "c366f4e6",
   "metadata": {},
   "outputs": [],
   "source": [
    "def mean(*args):\n",
    "    return f\"{statistics.mean(args):.3f}\"\n",
    "\n",
    "def stdev(*args):\n",
    "    if len(args) == 1:\n",
    "        return f\"{0:.3f}\"\n",
    "    return f\"{statistics.stdev(args):.3f}\"\n",
    "\n",
    "def latexify(x, y, z):\n",
    "    mu = mean(x, y, z)\n",
    "    sigma = stdev(x, y, z)\n",
    "    print(f\"${mu}_{{\\\\pm {sigma}}}$\")\n"
   ]
  },
  {
   "cell_type": "code",
   "execution_count": null,
   "id": "a65711f7",
   "metadata": {},
   "outputs": [],
   "source": [
    "intervention_names = [\"n_intervened\"]\n",
    "intervention_data = [list(range(30))]"
   ]
  },
  {
   "cell_type": "markdown",
   "id": "0e33c224",
   "metadata": {},
   "source": [
    "# Joint CBM"
   ]
  },
  {
   "cell_type": "code",
   "execution_count": null,
   "id": "30af962d",
   "metadata": {},
   "outputs": [],
   "source": [
    "task_accuracies = [0.7590000033378601, 0.7720000147819519, 0.765999972820282]\n",
    "latexify(*task_accuracies)"
   ]
  },
  {
   "cell_type": "code",
   "execution_count": null,
   "id": "a33c5535",
   "metadata": {},
   "outputs": [],
   "source": [
    "concept_aucs = [0.9389646053314209, 0.9381734132766724, 0.9376298189163208]\n",
    "latexify(*concept_aucs)"
   ]
  },
  {
   "cell_type": "code",
   "execution_count": null,
   "id": "d55ea65d",
   "metadata": {},
   "outputs": [],
   "source": [
    "independent_concept_aucs = [0.6741287112236023, 0.6749571561813354, 0.6724678874015808]\n",
    "latexify(*independent_concept_aucs)"
   ]
  },
  {
   "cell_type": "code",
   "execution_count": null,
   "id": "40f53ed0",
   "metadata": {},
   "outputs": [],
   "source": [
    "intervention_results_1 = [0.759, 0.748, 0.763, 0.772, 0.78, 0.803, 0.811, 0.824, 0.832, 0.856, 0.856, 0.84, 0.849, 0.858, 0.897, 0.9, 0.901, 0.899, 0.899, 0.898, 0.897, 0.897, 0.908, 0.909, 0.92, 0.923, 0.933, 0.933, 0.928, 0.981]\n",
    "intervention_results_2 = [0.772, 0.774, 0.784, 0.789, 0.799, 0.82, 0.827, 0.833, 0.838, 0.879, 0.873, 0.877, 0.877, 0.892, 0.93, 0.931, 0.938, 0.936, 0.934, 0.924, 0.92, 0.919, 0.921, 0.928, 0.931, 0.926, 0.927, 0.925, 0.922, 0.981]\n",
    "intervention_results_3 = [0.766, 0.739, 0.763, 0.762, 0.769, 0.802, 0.8, 0.793, 0.806, 0.831, 0.845, 0.838, 0.839, 0.857, 0.886, 0.89, 0.905, 0.902, 0.904, 0.908, 0.907, 0.908, 0.912, 0.916, 0.923, 0.927, 0.928, 0.926, 0.926, 0.979]\n",
    "intervention_names.append(\"jcbm\")\n",
    "intervention_names.append(\"jcbm_err\")\n",
    "intervention_data.append([mean(r[0], r[1], r[2]) for r in zip(intervention_results_1, intervention_results_2, intervention_results_3)])\n",
    "intervention_data.append([stdev(r[0], r[1], r[2]) for r in zip(intervention_results_1, intervention_results_2, intervention_results_3)])\n"
   ]
  },
  {
   "cell_type": "markdown",
   "id": "ea2ae8f8",
   "metadata": {},
   "source": [
    "# Independent CBM"
   ]
  },
  {
   "cell_type": "code",
   "execution_count": null,
   "id": "6bc3fed1",
   "metadata": {},
   "outputs": [],
   "source": [
    "task_accuracies = [0.7160000205039978, 0.7210000157356262, 0.7260000109672546]\n",
    "latexify(*task_accuracies)"
   ]
  },
  {
   "cell_type": "code",
   "execution_count": null,
   "id": "a394df97",
   "metadata": {},
   "outputs": [],
   "source": [
    "concept_aucs = [0.9461788535118103, 0.9462378025054932, 0.9461997151374817]\n",
    "latexify(*concept_aucs)"
   ]
  },
  {
   "cell_type": "code",
   "execution_count": null,
   "id": "e374be9e",
   "metadata": {},
   "outputs": [],
   "source": [
    "independent_concept_aucs = [0.6822448968887329, 0.6821192502975464, 0.6819853782653809]\n",
    "latexify(*independent_concept_aucs)"
   ]
  },
  {
   "cell_type": "code",
   "execution_count": null,
   "id": "2dc4a58d",
   "metadata": {},
   "outputs": [],
   "source": [
    "intervention_results_1 = [0.716, 0.727, 0.749, 0.779, 0.783, 0.817, 0.829, 0.849, 0.853, 0.879, 0.904, 0.908, 0.912, 0.914, 0.948, 0.949, 0.955, 0.962, 0.963, 0.964, 0.962, 0.961, 0.962, 0.965, 0.967, 0.967, 0.969, 0.968, 0.974, 0.997]\n",
    "intervention_results_2 = [0.721, 0.721, 0.748, 0.773, 0.777, 0.81, 0.82, 0.844, 0.847, 0.869, 0.893, 0.902, 0.909, 0.912, 0.941, 0.942, 0.954, 0.956, 0.958, 0.961, 0.958, 0.956, 0.963, 0.965, 0.966, 0.966, 0.968, 0.97, 0.972, 0.997]\n",
    "intervention_results_3 = [0.726, 0.73, 0.749, 0.771, 0.773, 0.808, 0.819, 0.844, 0.848, 0.871, 0.892, 0.892, 0.9, 0.902, 0.944, 0.945, 0.96, 0.962, 0.965, 0.965, 0.961, 0.961, 0.963, 0.968, 0.968, 0.971, 0.973, 0.974, 0.975, 0.998]\n",
    "intervention_names.append(\"icbm\")\n",
    "intervention_names.append(\"icbm_err\")\n",
    "intervention_data.append([mean(r[0], r[1], r[2]) for r in zip(intervention_results_1, intervention_results_2, intervention_results_3)])\n",
    "intervention_data.append([stdev(r[0], r[1], r[2]) for r in zip(intervention_results_1, intervention_results_2, intervention_results_3)])\n"
   ]
  },
  {
   "cell_type": "markdown",
   "id": "ec194567",
   "metadata": {},
   "source": [
    "# Sequential CBM"
   ]
  },
  {
   "cell_type": "code",
   "execution_count": null,
   "id": "20098e24",
   "metadata": {},
   "outputs": [],
   "source": [
    "task_accuracies = [0.7730000019073486, 0.765999972820282, 0.7760000228881836]\n",
    "latexify(*task_accuracies)"
   ]
  },
  {
   "cell_type": "code",
   "execution_count": null,
   "id": "442973c9",
   "metadata": {},
   "outputs": [],
   "source": [
    "concept_aucs = [0.9461907148361206, 0.9462950229644775, 0.9462599158287048]\n",
    "latexify(*concept_aucs)"
   ]
  },
  {
   "cell_type": "code",
   "execution_count": null,
   "id": "5bbe0175",
   "metadata": {},
   "outputs": [],
   "source": [
    "independent_concept_aucs = [0.6820867657661438, 0.6821170449256897, 0.6821960210800171]\n",
    "latexify(*independent_concept_aucs)"
   ]
  },
  {
   "cell_type": "code",
   "execution_count": null,
   "id": "657f5dc3",
   "metadata": {},
   "outputs": [],
   "source": [
    "intervention_results_1 = [0.773, 0.771, 0.794, 0.8, 0.806, 0.836, 0.84, 0.848, 0.851, 0.882, 0.895, 0.894, 0.897, 0.9, 0.931, 0.935, 0.946, 0.947, 0.946, 0.951, 0.946, 0.943, 0.949, 0.954, 0.956, 0.958, 0.965, 0.966, 0.967, 0.987]\n",
    "intervention_results_2 = [0.766, 0.767, 0.789, 0.8, 0.798, 0.821, 0.821, 0.829, 0.834, 0.856, 0.872, 0.866, 0.875, 0.883, 0.919, 0.924, 0.929, 0.939, 0.937, 0.942, 0.94, 0.937, 0.942, 0.946, 0.955, 0.96, 0.966, 0.967, 0.969, 0.995]\n",
    "intervention_results_3 = [0.776, 0.783, 0.793, 0.799, 0.802, 0.835, 0.839, 0.835, 0.832, 0.863, 0.872, 0.873, 0.877, 0.888, 0.927, 0.93, 0.94, 0.943, 0.935, 0.938, 0.937, 0.936, 0.938, 0.945, 0.948, 0.955, 0.956, 0.96, 0.961, 0.991]\n",
    "intervention_names.append(\"scbm\")\n",
    "intervention_names.append(\"scbm_err\")\n",
    "intervention_data.append([mean(r[0], r[1], r[2]) for r in zip(intervention_results_1, intervention_results_2, intervention_results_3)])\n",
    "intervention_data.append([stdev(r[0], r[1], r[2]) for r in zip(intervention_results_1, intervention_results_2, intervention_results_3)])"
   ]
  },
  {
   "cell_type": "markdown",
   "id": "fd510e34",
   "metadata": {},
   "source": [
    "# Sequential CBM with Independent Concepts"
   ]
  },
  {
   "cell_type": "code",
   "execution_count": null,
   "id": "b8504fc1",
   "metadata": {},
   "outputs": [],
   "source": [
    "task_accuracies = [0.7400000095367432, 0.7400000095367432, 0.7490000128746033]\n",
    "latexify(*task_accuracies)"
   ]
  },
  {
   "cell_type": "code",
   "execution_count": null,
   "id": "9ecfcb74",
   "metadata": {},
   "outputs": [],
   "source": [
    "concept_aucs = [0.7983564734458923, 0.7982350587844849, 0.7980400323867798]\n",
    "latexify(*concept_aucs)"
   ]
  },
  {
   "cell_type": "code",
   "execution_count": null,
   "id": "e6a443ea",
   "metadata": {},
   "outputs": [],
   "source": [
    "independent_concept_aucs = [0.7741694450378418, 0.7741492986679077, 0.7739368677139282]\n",
    "latexify(*independent_concept_aucs)"
   ]
  },
  {
   "cell_type": "code",
   "execution_count": null,
   "id": "a31b9487",
   "metadata": {},
   "outputs": [],
   "source": [
    "intervention_results_1 = [0.74, 0.764, 0.773, 0.796, 0.81, 0.832, 0.83, 0.857, 0.863, 0.873, 0.894, 0.877, 0.888, 0.892, 0.907, 0.913, 0.931, 0.935, 0.939, 0.924, 0.92, 0.931, 0.927, 0.945, 0.945, 0.943, 0.96, 0.962, 0.969, 0.982]\n",
    "intervention_results_2 = [0.74, 0.752, 0.753, 0.778, 0.792, 0.814, 0.827, 0.838, 0.849, 0.865, 0.883, 0.87, 0.882, 0.885, 0.899, 0.907, 0.926, 0.91, 0.907, 0.892, 0.894, 0.904, 0.89, 0.921, 0.935, 0.938, 0.94, 0.941, 0.957, 0.973]\n",
    "intervention_results_3 = [0.749, 0.748, 0.777, 0.779, 0.786, 0.824, 0.822, 0.847, 0.849, 0.878, 0.89, 0.882, 0.889, 0.891, 0.912, 0.921, 0.945, 0.946, 0.939, 0.928, 0.927, 0.941, 0.934, 0.956, 0.958, 0.96, 0.962, 0.963, 0.964, 0.979]\n",
    "intervention_names.append(\"scbm_ic\")\n",
    "intervention_names.append(\"scbm_ic_err\")\n",
    "intervention_data.append([mean(r[0], r[1], r[2]) for r in zip(intervention_results_1, intervention_results_2, intervention_results_3)])\n",
    "intervention_data.append([stdev(r[0], r[1], r[2]) for r in zip(intervention_results_1, intervention_results_2, intervention_results_3)])\n"
   ]
  },
  {
   "cell_type": "markdown",
   "id": "ddca7355",
   "metadata": {},
   "source": [
    "# Independent CBM with Independent Concepts"
   ]
  },
  {
   "cell_type": "code",
   "execution_count": null,
   "id": "5aa8b902",
   "metadata": {},
   "outputs": [],
   "source": [
    "task_accuracies = [0.4779999852180481, 0.5199999809265137, 0.5669999718666077]\n",
    "latexify(*task_accuracies)"
   ]
  },
  {
   "cell_type": "code",
   "execution_count": null,
   "id": "ac6c6957",
   "metadata": {},
   "outputs": [],
   "source": [
    "concept_aucs = [0.7981429696083069, 0.7984100580215454, 0.7982777953147888]\n",
    "latexify(*concept_aucs)"
   ]
  },
  {
   "cell_type": "code",
   "execution_count": null,
   "id": "8e7f15d3",
   "metadata": {},
   "outputs": [],
   "source": [
    "independent_concept_aucs = [0.7740517854690552, 0.7741856575012207, 0.7739886045455933]\n",
    "latexify(*independent_concept_aucs)"
   ]
  },
  {
   "cell_type": "code",
   "execution_count": null,
   "id": "7a6c90d1",
   "metadata": {},
   "outputs": [],
   "source": [
    "intervention_results_1 = [0.478, 0.495, 0.52, 0.567, 0.585, 0.618, 0.667, 0.76, 0.765, 0.826, 0.859, 0.884, 0.887, 0.89, 0.933, 0.938, 0.954, 0.965, 0.971, 0.972, 0.965, 0.97, 0.974, 0.983, 0.984, 0.983, 0.984, 0.984, 0.986, 0.997]\n",
    "intervention_results_2 = [0.52, 0.535, 0.566, 0.61, 0.626, 0.667, 0.667, 0.768, 0.781, 0.82, 0.85, 0.866, 0.87, 0.873, 0.91, 0.914, 0.937, 0.957, 0.966, 0.966, 0.959, 0.966, 0.971, 0.979, 0.982, 0.982, 0.983, 0.983, 0.986, 0.997]\n",
    "intervention_results_3 = [0.567, 0.597, 0.645, 0.685, 0.71, 0.743, 0.765, 0.815, 0.823, 0.86, 0.888, 0.905, 0.908, 0.91, 0.959, 0.961, 0.969, 0.967, 0.973, 0.973, 0.971, 0.974, 0.979, 0.983, 0.983, 0.984, 0.986, 0.986, 0.987, 0.997]\n",
    "intervention_names.append(\"icbm_ic\")\n",
    "intervention_names.append(\"icbm_ic_err\")\n",
    "intervention_data.append([mean(r[0], r[1], r[2]) for r in zip(intervention_results_1, intervention_results_2, intervention_results_3)])\n",
    "intervention_data.append([stdev(r[0], r[1], r[2]) for r in zip(intervention_results_1, intervention_results_2, intervention_results_3)])\n"
   ]
  },
  {
   "cell_type": "markdown",
   "id": "9e912e38",
   "metadata": {},
   "source": [
    "# CEM"
   ]
  },
  {
   "cell_type": "code",
   "execution_count": null,
   "id": "bb9dcc01",
   "metadata": {},
   "outputs": [],
   "source": [
    "task_accuracies = [0.7730000019073486, 0.7639999985694885, 0.7580000162124634]\n",
    "latexify(*task_accuracies)"
   ]
  },
  {
   "cell_type": "code",
   "execution_count": null,
   "id": "0a5cab20",
   "metadata": {},
   "outputs": [],
   "source": [
    "concept_aucs = [0.9464117884635925, 0.94694983959198, 0.9451832175254822]\n",
    "latexify(*concept_aucs)"
   ]
  },
  {
   "cell_type": "code",
   "execution_count": null,
   "id": "a8809b48",
   "metadata": {},
   "outputs": [],
   "source": [
    "independent_concept_aucs = [0.6715093851089478, 0.6745481491088867, 0.6761716604232788]\n",
    "latexify(*independent_concept_aucs)"
   ]
  },
  {
   "cell_type": "code",
   "execution_count": null,
   "id": "180bf912",
   "metadata": {},
   "outputs": [],
   "source": [
    "intervention_results_1 = [0.773, 0.78, 0.794, 0.811, 0.815, 0.841, 0.845, 0.861, 0.867, 0.888, 0.903, 0.908, 0.91, 0.912, 0.938, 0.939, 0.943, 0.943, 0.946, 0.948, 0.947, 0.949, 0.954, 0.961, 0.961, 0.96, 0.96, 0.961, 0.964, 0.988]\n",
    "intervention_results_2 = [0.764, 0.768, 0.79, 0.81, 0.813, 0.844, 0.849, 0.875, 0.879, 0.889, 0.899, 0.907, 0.911, 0.915, 0.943, 0.946, 0.947, 0.951, 0.952, 0.956, 0.955, 0.955, 0.96, 0.967, 0.969, 0.968, 0.968, 0.967, 0.968, 0.99]\n",
    "intervention_results_3 = [0.758, 0.766, 0.782, 0.799, 0.805, 0.832, 0.843, 0.866, 0.873, 0.889, 0.903, 0.909, 0.913, 0.917, 0.941, 0.942, 0.946, 0.951, 0.956, 0.956, 0.954, 0.953, 0.956, 0.964, 0.966, 0.966, 0.967, 0.968, 0.969, 0.991]\n",
    "intervention_names.append(\"cem\")\n",
    "intervention_names.append(\"cem_err\")\n",
    "intervention_data.append([mean(r[0], r[1], r[2]) for r in zip(intervention_results_1, intervention_results_2, intervention_results_3)])\n",
    "intervention_data.append([stdev(r[0], r[1], r[2]) for r in zip(intervention_results_1, intervention_results_2, intervention_results_3)])\n"
   ]
  },
  {
   "cell_type": "markdown",
   "id": "00038782",
   "metadata": {},
   "source": [
    "# Black Box"
   ]
  },
  {
   "cell_type": "code",
   "execution_count": null,
   "id": "95f17ad6",
   "metadata": {},
   "outputs": [],
   "source": [
    "task_accuracies = [0.7239999771118164, 0.7160000205039978, 0.7310000061988831]\n",
    "latexify(*task_accuracies)"
   ]
  },
  {
   "cell_type": "markdown",
   "id": "45e56507",
   "metadata": {},
   "source": [
    "# Intervention Results"
   ]
  },
  {
   "cell_type": "code",
   "execution_count": null,
   "id": "2c22110f",
   "metadata": {},
   "outputs": [],
   "source": [
    "print(\" \".join(intervention_names))\n",
    "for i in range(len(intervention_data[0])):\n",
    "    print(\" \".join(f\"{data[i]}\" for data in intervention_data))"
   ]
  }
 ],
 "metadata": {
  "kernelspec": {
   "display_name": "summer",
   "language": "python",
   "name": "python3"
  },
  "language_info": {
   "codemirror_mode": {
    "name": "ipython",
    "version": 3
   },
   "file_extension": ".py",
   "mimetype": "text/x-python",
   "name": "python",
   "nbconvert_exporter": "python",
   "pygments_lexer": "ipython3",
   "version": "3.11.13"
  }
 },
 "nbformat": 4,
 "nbformat_minor": 5
}
